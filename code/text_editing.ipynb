{
 "cells": [
  {
   "cell_type": "markdown",
   "metadata": {},
   "source": [
    "# Text Editing:\n",
    "Edit False Positive List to match search string "
   ]
  },
  {
   "cell_type": "code",
   "execution_count": null,
   "metadata": {
    "scrolled": true
   },
   "outputs": [],
   "source": [
    "appendText = '_'\n",
    "count = 1\n",
    "with open(\"f_positive.txt\", 'r') as lines:\n",
    "    for line in lines:\n",
    "        if (count < 38):\n",
    "            with open(\"f_positive_clean_1.txt\", 'a') as updatedLines:\n",
    "                original = line.rstrip()\n",
    "                formattedLine = original.strip(\"'\")\n",
    "                updatedLines.write(\"\\\\\\\"\" + formattedLine + \"\\\\\\\" OR \")\n",
    "            print(\"v1 %d\" %count)\n",
    "        if (count > 37 and count < 70):\n",
    "            with open(\"f_positive_clean_2.txt\", 'a') as updatedLines:\n",
    "                original = line.rstrip()\n",
    "                formattedLine = original.strip(\"'\")\n",
    "                updatedLines.write(\"\\\\\\\"\" + formattedLine + \"\\\\\\\" OR \")\n",
    "            print(\"v2 %d\" %count)\n",
    "        if (count > 69):\n",
    "            with open(\"f_positive_clean_3.txt\", 'a') as updatedLines:\n",
    "                original = line.rstrip()\n",
    "                formattedLine = original.strip(\"'\")\n",
    "                updatedLines.write(\"\\\\\\\"\" + formattedLine + \"\\\\\\\" OR \")\n",
    "            print(\"v3 %d\" %count)\n",
    "        count += 1"
   ]
  },
  {
   "cell_type": "code",
   "execution_count": 39,
   "metadata": {
    "scrolled": true
   },
   "outputs": [],
   "source": [
    "with open(\"f_positive_clean_1.txt\", 'rb+') as file:\n",
    "    file.seek(-4, 2)\n",
    "    file.truncate()\n",
    "with open(\"f_positive_clean_2.txt\", 'rb+') as file:\n",
    "    file.seek(-4, 2)\n",
    "    file.truncate()\n",
    "with open(\"f_positive_clean_3.txt\", 'rb+') as file:\n",
    "    file.seek(-4, 2)\n",
    "    file.truncate()"
   ]
  }
 ],
 "metadata": {
  "kernelspec": {
   "display_name": "Python 3",
   "language": "python",
   "name": "python3"
  },
  "language_info": {
   "codemirror_mode": {
    "name": "ipython",
    "version": 3
   },
   "file_extension": ".py",
   "mimetype": "text/x-python",
   "name": "python",
   "nbconvert_exporter": "python",
   "pygments_lexer": "ipython3",
   "version": "3.8.3"
  }
 },
 "nbformat": 4,
 "nbformat_minor": 5
}

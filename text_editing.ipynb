{
 "cells": [
  {
   "cell_type": "markdown",
   "id": "87771ce8",
   "metadata": {},
   "source": [
    "# Text Editing:\n",
    "Edit False Positive List to match search string "
   ]
  },
  {
   "cell_type": "code",
   "execution_count": 15,
   "id": "0ae2d9e6",
   "metadata": {},
   "outputs": [],
   "source": [
    "appendText = '_'\n",
    "with open(\"f_positive.txt\", 'r') as lines:\n",
    "    with open(\"f_positive_clean.txt\", 'a') as updatedLines:\n",
    "        for line in lines:\n",
    "            original = line.rstrip()\n",
    "            formattedLine = original.strip(\"'\")\n",
    "            updatedLines.write(\"\\\\\\\"\" + formattedLine + \"\\\\\\\" OR \\\\\" + '\\n')"
   ]
  },
  {
   "cell_type": "code",
   "execution_count": null,
   "id": "cda42544",
   "metadata": {},
   "outputs": [],
   "source": []
  }
 ],
 "metadata": {
  "kernelspec": {
   "display_name": "Python 3 (ipykernel)",
   "language": "python",
   "name": "python3"
  },
  "language_info": {
   "codemirror_mode": {
    "name": "ipython",
    "version": 3
   },
   "file_extension": ".py",
   "mimetype": "text/x-python",
   "name": "python",
   "nbconvert_exporter": "python",
   "pygments_lexer": "ipython3",
   "version": "3.9.12"
  }
 },
 "nbformat": 4,
 "nbformat_minor": 5
}

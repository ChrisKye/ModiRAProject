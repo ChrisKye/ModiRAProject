{
 "cells": [
  {
   "cell_type": "markdown",
   "metadata": {},
   "source": [
    "# Exploratory Analysis for Firm Listings"
   ]
  },
  {
   "cell_type": "code",
   "execution_count": 2,
   "metadata": {},
   "outputs": [],
   "source": [
    "import pandas as pd\n",
    "import pyreadstat\n",
    "import numpy as np"
   ]
  },
  {
   "cell_type": "code",
   "execution_count": 3,
   "metadata": {},
   "outputs": [
    {
     "data": {
      "text/html": [
       "<div>\n",
       "<style scoped>\n",
       "    .dataframe tbody tr th:only-of-type {\n",
       "        vertical-align: middle;\n",
       "    }\n",
       "\n",
       "    .dataframe tbody tr th {\n",
       "        vertical-align: top;\n",
       "    }\n",
       "\n",
       "    .dataframe thead th {\n",
       "        text-align: right;\n",
       "    }\n",
       "</style>\n",
       "<table border=\"1\" class=\"dataframe\">\n",
       "  <thead>\n",
       "    <tr style=\"text-align: right;\">\n",
       "      <th></th>\n",
       "      <th>gvkey</th>\n",
       "      <th>conm</th>\n",
       "      <th>DATADATE1</th>\n",
       "      <th>DATADATE2</th>\n",
       "      <th>cik</th>\n",
       "      <th>SOURCE</th>\n",
       "      <th>coname</th>\n",
       "      <th>FNDATE</th>\n",
       "      <th>LNDATE</th>\n",
       "      <th>N10K</th>\n",
       "      <th>N10K_NT</th>\n",
       "      <th>N10K_A</th>\n",
       "      <th>N10Q</th>\n",
       "      <th>N10Q_NT</th>\n",
       "      <th>N10Q_A</th>\n",
       "      <th>NDEF</th>\n",
       "      <th>N8K</th>\n",
       "      <th>NTOT</th>\n",
       "      <th>FLAG</th>\n",
       "    </tr>\n",
       "  </thead>\n",
       "  <tbody>\n",
       "    <tr>\n",
       "      <th>0</th>\n",
       "      <td>1000</td>\n",
       "      <td>A &amp; E PLASTIK PAK INC</td>\n",
       "      <td>31DEC1964</td>\n",
       "      <td>31DEC1977</td>\n",
       "      <td>NaN</td>\n",
       "      <td>NOLNK</td>\n",
       "      <td>NaN</td>\n",
       "      <td>NaN</td>\n",
       "      <td>NaN</td>\n",
       "      <td>NaN</td>\n",
       "      <td>NaN</td>\n",
       "      <td>NaN</td>\n",
       "      <td>NaN</td>\n",
       "      <td>NaN</td>\n",
       "      <td>NaN</td>\n",
       "      <td>NaN</td>\n",
       "      <td>NaN</td>\n",
       "      <td>NaN</td>\n",
       "      <td>0</td>\n",
       "    </tr>\n",
       "    <tr>\n",
       "      <th>1</th>\n",
       "      <td>1001</td>\n",
       "      <td>A &amp; M FOOD SERVICES INC</td>\n",
       "      <td>31DEC1978</td>\n",
       "      <td>31DEC1985</td>\n",
       "      <td>723576.0</td>\n",
       "      <td>COMPN</td>\n",
       "      <td>NaN</td>\n",
       "      <td>NaN</td>\n",
       "      <td>NaN</td>\n",
       "      <td>NaN</td>\n",
       "      <td>NaN</td>\n",
       "      <td>NaN</td>\n",
       "      <td>NaN</td>\n",
       "      <td>NaN</td>\n",
       "      <td>NaN</td>\n",
       "      <td>NaN</td>\n",
       "      <td>NaN</td>\n",
       "      <td>NaN</td>\n",
       "      <td>0</td>\n",
       "    </tr>\n",
       "    <tr>\n",
       "      <th>2</th>\n",
       "      <td>1002</td>\n",
       "      <td>AAI CORP</td>\n",
       "      <td>31DEC1968</td>\n",
       "      <td>31DEC1972</td>\n",
       "      <td>1745.0</td>\n",
       "      <td>COMPH</td>\n",
       "      <td>NaN</td>\n",
       "      <td>NaN</td>\n",
       "      <td>NaN</td>\n",
       "      <td>NaN</td>\n",
       "      <td>NaN</td>\n",
       "      <td>NaN</td>\n",
       "      <td>NaN</td>\n",
       "      <td>NaN</td>\n",
       "      <td>NaN</td>\n",
       "      <td>NaN</td>\n",
       "      <td>NaN</td>\n",
       "      <td>NaN</td>\n",
       "      <td>0</td>\n",
       "    </tr>\n",
       "    <tr>\n",
       "      <th>3</th>\n",
       "      <td>1002</td>\n",
       "      <td>AAI CORP</td>\n",
       "      <td>31DEC1968</td>\n",
       "      <td>31DEC1972</td>\n",
       "      <td>1306124.0</td>\n",
       "      <td>COMPN</td>\n",
       "      <td>AAI CORP</td>\n",
       "      <td>12NOV2004</td>\n",
       "      <td>11MAY2005</td>\n",
       "      <td>0.0</td>\n",
       "      <td>0.0</td>\n",
       "      <td>0.0</td>\n",
       "      <td>0.0</td>\n",
       "      <td>0.0</td>\n",
       "      <td>0.0</td>\n",
       "      <td>0.0</td>\n",
       "      <td>0.0</td>\n",
       "      <td>5.0</td>\n",
       "      <td>3</td>\n",
       "    </tr>\n",
       "    <tr>\n",
       "      <th>4</th>\n",
       "      <td>1003</td>\n",
       "      <td>A.A. IMPORTING CO INC</td>\n",
       "      <td>31DEC1980</td>\n",
       "      <td>31JAN1990</td>\n",
       "      <td>730052.0</td>\n",
       "      <td>COMPN</td>\n",
       "      <td>NaN</td>\n",
       "      <td>NaN</td>\n",
       "      <td>NaN</td>\n",
       "      <td>NaN</td>\n",
       "      <td>NaN</td>\n",
       "      <td>NaN</td>\n",
       "      <td>NaN</td>\n",
       "      <td>NaN</td>\n",
       "      <td>NaN</td>\n",
       "      <td>NaN</td>\n",
       "      <td>NaN</td>\n",
       "      <td>NaN</td>\n",
       "      <td>0</td>\n",
       "    </tr>\n",
       "  </tbody>\n",
       "</table>\n",
       "</div>"
      ],
      "text/plain": [
       "   gvkey                     conm  DATADATE1  DATADATE2        cik SOURCE  \\\n",
       "0   1000    A & E PLASTIK PAK INC  31DEC1964  31DEC1977        NaN  NOLNK   \n",
       "1   1001  A & M FOOD SERVICES INC  31DEC1978  31DEC1985   723576.0  COMPN   \n",
       "2   1002                 AAI CORP  31DEC1968  31DEC1972     1745.0  COMPH   \n",
       "3   1002                 AAI CORP  31DEC1968  31DEC1972  1306124.0  COMPN   \n",
       "4   1003    A.A. IMPORTING CO INC  31DEC1980  31JAN1990   730052.0  COMPN   \n",
       "\n",
       "     coname     FNDATE     LNDATE  N10K  N10K_NT  N10K_A  N10Q  N10Q_NT  \\\n",
       "0       NaN        NaN        NaN   NaN      NaN     NaN   NaN      NaN   \n",
       "1       NaN        NaN        NaN   NaN      NaN     NaN   NaN      NaN   \n",
       "2       NaN        NaN        NaN   NaN      NaN     NaN   NaN      NaN   \n",
       "3  AAI CORP  12NOV2004  11MAY2005   0.0      0.0     0.0   0.0      0.0   \n",
       "4       NaN        NaN        NaN   NaN      NaN     NaN   NaN      NaN   \n",
       "\n",
       "   N10Q_A  NDEF  N8K  NTOT  FLAG  \n",
       "0     NaN   NaN  NaN   NaN     0  \n",
       "1     NaN   NaN  NaN   NaN     0  \n",
       "2     NaN   NaN  NaN   NaN     0  \n",
       "3     0.0   0.0  0.0   5.0     3  \n",
       "4     NaN   NaN  NaN   NaN     0  "
      ]
     },
     "execution_count": 3,
     "metadata": {},
     "output_type": "execute_result"
    }
   ],
   "source": [
    "cikmap = pd.read_csv('index.csv')\n",
    "cikmap.head()"
   ]
  },
  {
   "cell_type": "code",
   "execution_count": 10,
   "metadata": {
    "scrolled": true
   },
   "outputs": [
    {
     "name": "stdout",
     "output_type": "stream",
     "text": [
      "unique gvkeys: 54752\n",
      "unique firm names:  51940\n",
      "(64643, 19)\n"
     ]
    }
   ],
   "source": [
    "print('unique gvkeys: ' + str(len(cikmap.gvkey.unique())))\n",
    "print('unique firm names: ', str(len(cikmap.conm.unique())))\n",
    "print(cikmap.shape)"
   ]
  },
  {
   "cell_type": "code",
   "execution_count": 11,
   "metadata": {},
   "outputs": [
    {
     "name": "stdout",
     "output_type": "stream",
     "text": [
      "(76856, 1)\n",
      "(64643, 19)\n"
     ]
    }
   ],
   "source": [
    "dta, meta = pyreadstat.read_dta('RA_project/gvkey_list.dta')\n",
    "print(dta.shape)\n",
    "print(cikmap.shape)"
   ]
  },
  {
   "cell_type": "code",
   "execution_count": 12,
   "metadata": {},
   "outputs": [
    {
     "data": {
      "text/html": [
       "<div>\n",
       "<style scoped>\n",
       "    .dataframe tbody tr th:only-of-type {\n",
       "        vertical-align: middle;\n",
       "    }\n",
       "\n",
       "    .dataframe tbody tr th {\n",
       "        vertical-align: top;\n",
       "    }\n",
       "\n",
       "    .dataframe thead th {\n",
       "        text-align: right;\n",
       "    }\n",
       "</style>\n",
       "<table border=\"1\" class=\"dataframe\">\n",
       "  <thead>\n",
       "    <tr style=\"text-align: right;\">\n",
       "      <th></th>\n",
       "      <th>gvkey</th>\n",
       "    </tr>\n",
       "  </thead>\n",
       "  <tbody>\n",
       "    <tr>\n",
       "      <th>19</th>\n",
       "      <td></td>\n",
       "    </tr>\n",
       "    <tr>\n",
       "      <th>3161</th>\n",
       "      <td>001004</td>\n",
       "    </tr>\n",
       "    <tr>\n",
       "      <th>2210</th>\n",
       "      <td>001013</td>\n",
       "    </tr>\n",
       "    <tr>\n",
       "      <th>3568</th>\n",
       "      <td>001019</td>\n",
       "    </tr>\n",
       "    <tr>\n",
       "      <th>1857</th>\n",
       "      <td>001021</td>\n",
       "    </tr>\n",
       "    <tr>\n",
       "      <th>21557</th>\n",
       "      <td>001025</td>\n",
       "    </tr>\n",
       "    <tr>\n",
       "      <th>3564</th>\n",
       "      <td>001034</td>\n",
       "    </tr>\n",
       "    <tr>\n",
       "      <th>3167</th>\n",
       "      <td>001045</td>\n",
       "    </tr>\n",
       "    <tr>\n",
       "      <th>21558</th>\n",
       "      <td>001048</td>\n",
       "    </tr>\n",
       "    <tr>\n",
       "      <th>3571</th>\n",
       "      <td>001050</td>\n",
       "    </tr>\n",
       "  </tbody>\n",
       "</table>\n",
       "</div>"
      ],
      "text/plain": [
       "        gvkey\n",
       "19           \n",
       "3161   001004\n",
       "2210   001013\n",
       "3568   001019\n",
       "1857   001021\n",
       "21557  001025\n",
       "3564   001034\n",
       "3167   001045\n",
       "21558  001048\n",
       "3571   001050"
      ]
     },
     "execution_count": 12,
     "metadata": {},
     "output_type": "execute_result"
    }
   ],
   "source": [
    "dta_sort = dta.sort_values(by = 'gvkey')\n",
    "dta_sort.head(10)"
   ]
  },
  {
   "cell_type": "code",
   "execution_count": 13,
   "metadata": {},
   "outputs": [],
   "source": [
    "dta_sort = dta_sort.drop(19)"
   ]
  },
  {
   "cell_type": "code",
   "execution_count": 14,
   "metadata": {},
   "outputs": [],
   "source": [
    "dta_sort['gvkey'] = dta_sort['gvkey'].astype(str).astype(int)"
   ]
  },
  {
   "cell_type": "code",
   "execution_count": 15,
   "metadata": {},
   "outputs": [
    {
     "name": "stdout",
     "output_type": "stream",
     "text": [
      "(76855, 1)\n",
      "76855\n",
      "(64643, 19)\n"
     ]
    }
   ],
   "source": [
    "print(dta_sort.shape)\n",
    "print(len(dta_sort['gvkey'].unique()))\n",
    "print(cikmap.shape)"
   ]
  },
  {
   "cell_type": "code",
   "execution_count": 16,
   "metadata": {},
   "outputs": [
    {
     "data": {
      "text/plain": [
       "0"
      ]
     },
     "execution_count": 16,
     "metadata": {},
     "output_type": "execute_result"
    }
   ],
   "source": [
    "duplicate = dta_sort[dta_sort.duplicated()]\n",
    "duplicate.iloc[0:5]\n",
    "len(duplicate)"
   ]
  },
  {
   "cell_type": "code",
   "execution_count": 17,
   "metadata": {},
   "outputs": [
    {
     "name": "stdout",
     "output_type": "stream",
     "text": [
      "76855 64643\n"
     ]
    }
   ],
   "source": [
    "gvkey_list = dta_sort['gvkey'].to_list()\n",
    "gvkey_db = cikmap['gvkey'].to_list()\n",
    "print(len(gvkey_list), len(gvkey_db))"
   ]
  },
  {
   "cell_type": "code",
   "execution_count": 18,
   "metadata": {},
   "outputs": [
    {
     "data": {
      "text/plain": [
       "48641"
      ]
     },
     "execution_count": 18,
     "metadata": {},
     "output_type": "execute_result"
    }
   ],
   "source": [
    "not_available = np.setdiff1d(gvkey_list,gvkey_db)\n",
    "len(not_available)"
   ]
  },
  {
   "cell_type": "code",
   "execution_count": null,
   "metadata": {},
   "outputs": [],
   "source": []
  }
 ],
 "metadata": {
  "kernelspec": {
   "display_name": "Python 3",
   "language": "python",
   "name": "python3"
  },
  "language_info": {
   "codemirror_mode": {
    "name": "ipython",
    "version": 3
   },
   "file_extension": ".py",
   "mimetype": "text/x-python",
   "name": "python",
   "nbconvert_exporter": "python",
   "pygments_lexer": "ipython3",
   "version": "3.8.3"
  }
 },
 "nbformat": 4,
 "nbformat_minor": 4
}
